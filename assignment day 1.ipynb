{
 "cells": [
  {
   "cell_type": "code",
   "execution_count": 1,
   "id": "2e7c7568",
   "metadata": {},
   "outputs": [],
   "source": [
    "import numpy as np"
   ]
  },
  {
   "cell_type": "code",
   "execution_count": 2,
   "id": "4e38ec81",
   "metadata": {},
   "outputs": [],
   "source": [
    "#1)Create a matrix of user defined size with random numbers"
   ]
  },
  {
   "cell_type": "code",
   "execution_count": 3,
   "id": "50274093",
   "metadata": {},
   "outputs": [
    {
     "name": "stdout",
     "output_type": "stream",
     "text": [
      "3\n",
      "3\n"
     ]
    },
    {
     "data": {
      "text/plain": [
       "array([[6, 1, 4],\n",
       "       [9, 3, 3],\n",
       "       [6, 9, 7]])"
      ]
     },
     "execution_count": 3,
     "metadata": {},
     "output_type": "execute_result"
    }
   ],
   "source": [
    "row = int(input())\n",
    "col = int(input())\n",
    "mat = np.random.randint(10,size=(row,col))\n",
    "mat"
   ]
  },
  {
   "cell_type": "code",
   "execution_count": 4,
   "id": "adfdcd48",
   "metadata": {},
   "outputs": [],
   "source": [
    "#2)identify the maximum,minmum value postions also print maximum , minm values"
   ]
  },
  {
   "cell_type": "code",
   "execution_count": 5,
   "id": "8098f185",
   "metadata": {},
   "outputs": [],
   "source": [
    "temp=[13,81,-18,67,70,-19]"
   ]
  },
  {
   "cell_type": "code",
   "execution_count": 7,
   "id": "e92485c1",
   "metadata": {},
   "outputs": [
    {
     "data": {
      "text/plain": [
       "(4, 100)"
      ]
     },
     "execution_count": 7,
     "metadata": {},
     "output_type": "execute_result"
    }
   ],
   "source": [
    "maxInd = np.argmax(temp)\n",
    "maxInd,temp[maxInd]"
   ]
  },
  {
   "cell_type": "code",
   "execution_count": 8,
   "id": "cd0d3d48",
   "metadata": {},
   "outputs": [
    {
     "data": {
      "text/plain": [
       "(5, -19)"
      ]
     },
     "execution_count": 8,
     "metadata": {},
     "output_type": "execute_result"
    }
   ],
   "source": [
    "minInd = np.argmin(temp)\n",
    "minInd,temp[minInd]"
   ]
  },
  {
   "cell_type": "code",
   "execution_count": 9,
   "id": "c30daed3",
   "metadata": {},
   "outputs": [],
   "source": [
    "#3)identify the even and odd number"
   ]
  },
  {
   "cell_type": "code",
   "execution_count": 1,
   "id": "386ca7d3",
   "metadata": {},
   "outputs": [
    {
     "name": "stdout",
     "output_type": "stream",
     "text": [
      "4\n",
      "even\n"
     ]
    }
   ],
   "source": [
    "n = int(input())\n",
    "if(n % 2 == 0):\n",
    " print(\"even\")\n",
    "else:\n",
    " print(\"odd\")"
   ]
  },
  {
   "cell_type": "code",
   "execution_count": 2,
   "id": "c1d4e08a",
   "metadata": {},
   "outputs": [],
   "source": [
    "#4)identify if the number is prime or not"
   ]
  },
  {
   "cell_type": "code",
   "execution_count": 6,
   "id": "3c32c40f",
   "metadata": {},
   "outputs": [
    {
     "name": "stdout",
     "output_type": "stream",
     "text": [
      "8\n",
      "not prime\n"
     ]
    }
   ],
   "source": [
    "n = int(input())\n",
    "if(n == 2):\n",
    "    print(\"prime\")\n",
    "elif(n > 2):\n",
    "    x = 0\n",
    "    for i in range(2,n//2):\n",
    "        if(n % i == 0):\n",
    "            print(\"not prime\")\n",
    "            x = 1\n",
    "    if(x == 0):\n",
    "        print(\"prime\")\n",
    "else:\n",
    "    print(\"not prime\")\n",
    "   "
   ]
  },
  {
   "cell_type": "code",
   "execution_count": null,
   "id": "39feaf51",
   "metadata": {},
   "outputs": [],
   "source": [
    "#5)convert matrix of any size to any size using reshape"
   ]
  },
  {
   "cell_type": "code",
   "execution_count": 2,
   "id": "18e2df96",
   "metadata": {},
   "outputs": [
    {
     "name": "stdout",
     "output_type": "stream",
     "text": [
      "[1 2 3 4]\n",
      "[[1 2]\n",
      " [3 4]]\n"
     ]
    }
   ],
   "source": [
    "arr = np.array([1,2,3,4])\n",
    "\n",
    "print (arr)\n",
    "\n",
    "b = arr.reshape(2,2)\n",
    "\n",
    "print(b)"
   ]
  },
  {
   "cell_type": "code",
   "execution_count": null,
   "id": "57e2e85b",
   "metadata": {},
   "outputs": [],
   "source": [
    "\n",
    "\n",
    "\n",
    "\n",
    "\n",
    "\n",
    "\n",
    "\n",
    "\n",
    "\n",
    "\n",
    "\n",
    "\n",
    "\n",
    "\n",
    "\n",
    "\n",
    "\n",
    "\n",
    "\n",
    "\n",
    "\n",
    "\n",
    "+"
   ]
  }
 ],
 "metadata": {
  "kernelspec": {
   "display_name": "Python 3 (ipykernel)",
   "language": "python",
   "name": "python3"
  },
  "language_info": {
   "codemirror_mode": {
    "name": "ipython",
    "version": 3
   },
   "file_extension": ".py",
   "mimetype": "text/x-python",
   "name": "python",
   "nbconvert_exporter": "python",
   "pygments_lexer": "ipython3",
   "version": "3.11.5"
  }
 },
 "nbformat": 4,
 "nbformat_minor": 5
}
